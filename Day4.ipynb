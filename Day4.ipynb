{
 "cells": [
  {
   "cell_type": "code",
   "execution_count": 1,
   "id": "e5e1c0b5",
   "metadata": {},
   "outputs": [
    {
     "name": "stdout",
     "output_type": "stream",
     "text": [
      "Enter a positive integer: 2\n",
      "The sum of all even numbers between 1 and 2 is: 2\n"
     ]
    }
   ],
   "source": [
    "def sum_of_even_numbers(n):\n",
    "    # Initialize the sum variable\n",
    "    total = 0\n",
    "\n",
    "    # Iterate through numbers from 1 to n\n",
    "    for i in range(2, n + 1, 2):  # Start at 2 and step by 2\n",
    "        total += i\n",
    "\n",
    "    return total\n",
    "\n",
    "# Input from the user\n",
    "n = int(input(\"Enter a positive integer: \"))\n",
    "\n",
    "if n > 0:\n",
    "    result = sum_of_even_numbers(n)\n",
    "    print(f\"The sum of all even numbers between 1 and {n} is: {result}\")\n",
    "else:\n",
    "    print(\"Please enter a positive integer\")"
   ]
  },
  {
   "cell_type": "code",
   "execution_count": null,
   "id": "7b11dac4",
   "metadata": {},
   "outputs": [],
   "source": []
  }
 ],
 "metadata": {
  "kernelspec": {
   "display_name": "Python 3 (ipykernel)",
   "language": "python",
   "name": "python3"
  },
  "language_info": {
   "codemirror_mode": {
    "name": "ipython",
    "version": 3
   },
   "file_extension": ".py",
   "mimetype": "text/x-python",
   "name": "python",
   "nbconvert_exporter": "python",
   "pygments_lexer": "ipython3",
   "version": "3.9.7"
  }
 },
 "nbformat": 4,
 "nbformat_minor": 5
}
