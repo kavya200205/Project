{
 "cells": [
  {
   "cell_type": "code",
   "execution_count": 1,
   "id": "4c01593f",
   "metadata": {},
   "outputs": [
    {
     "name": "stdout",
     "output_type": "stream",
     "text": [
      "Enter a text: hi\n",
      "\n",
      "Word Frequencies:\n",
      "hi: 1\n"
     ]
    }
   ],
   "source": [
    "def calculate_word_frequency(text):\n",
    "    words = text.lower().split()\n",
    "    word_counts = {}\n",
    "    for word in words:\n",
    "        word = ''.join(char for char in word if char.isalnum())\n",
    "        if word:\n",
    "            word_counts[word] = word_counts.get(word, 0) + 1\n",
    "    return word_counts\n",
    "text = input(\"Enter a text: \")\n",
    "frequencies = calculate_word_frequency(text)\n",
    "print(\"\\nWord Frequencies:\")\n",
    "for word, count in frequencies.items():\n",
    "    print(f\"{word}: {count}\")\n"
   ]
  },
  {
   "cell_type": "code",
   "execution_count": null,
   "id": "920576ea",
   "metadata": {},
   "outputs": [],
   "source": []
  }
 ],
 "metadata": {
  "kernelspec": {
   "display_name": "Python 3 (ipykernel)",
   "language": "python",
   "name": "python3"
  },
  "language_info": {
   "codemirror_mode": {
    "name": "ipython",
    "version": 3
   },
   "file_extension": ".py",
   "mimetype": "text/x-python",
   "name": "python",
   "nbconvert_exporter": "python",
   "pygments_lexer": "ipython3",
   "version": "3.9.7"
  }
 },
 "nbformat": 4,
 "nbformat_minor": 5
}
