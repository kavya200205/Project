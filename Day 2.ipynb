{
 "cells": [
  {
   "cell_type": "code",
   "execution_count": 1,
   "id": "f71f0602",
   "metadata": {},
   "outputs": [
    {
     "name": "stdout",
     "output_type": "stream",
     "text": [
      "[1, 2, 3, 4, 5]\n",
      "1\n",
      "2\n",
      "[1, 2, 3, 4]\n",
      "[2, 3, 4, 5]\n",
      "[2, 3, 4]\n",
      "[1, 3, 5]\n"
     ]
    }
   ],
   "source": [
    "#List\n",
    "l1=[1,2,3,4,5]\n",
    "print(l1)\n",
    "print(l1[0])\n",
    "print(l1[1])\n",
    "print(l1[0:4])\n",
    "print(l1[1:6])\n",
    "print(l1[1:4:1])\n",
    "print(l1[0:5:2])"
   ]
  },
  {
   "cell_type": "code",
   "execution_count": 2,
   "id": "3e393013",
   "metadata": {},
   "outputs": [
    {
     "name": "stdout",
     "output_type": "stream",
     "text": [
      "('Apple', 'Banana', 'Cherry', 'Mango', 'Watermelon')\n",
      "Apple\n",
      "Banana\n",
      "('Apple', 'Banana', 'Cherry', 'Mango')\n",
      "('Banana', 'Cherry', 'Mango', 'Watermelon')\n",
      "('Banana', 'Cherry', 'Mango')\n",
      "('Apple', 'Cherry', 'Watermelon')\n"
     ]
    }
   ],
   "source": [
    "#tuple\n",
    "t=(\"Apple\",\"Banana\",\"Cherry\",\"Mango\",\"Watermelon\")\n",
    "print(t)\n",
    "print(t[0])\n",
    "print(t[1])\n",
    "print(t[0:4])\n",
    "print(t[1:6])\n",
    "print(t[1:4:1])\n",
    "print(t[0:5:2])"
   ]
  },
  {
   "cell_type": "code",
   "execution_count": 3,
   "id": "4fc35fdb",
   "metadata": {},
   "outputs": [
    {
     "name": "stdout",
     "output_type": "stream",
     "text": [
      "{'Captain': 'Virat Kohli', 'Opener1': 'Rohith Sharma', 'Opener2': 'Kl Rahul', 'Keeper': 'Rishabh Panth', 'Fastbowler': 'Bumrah', 'Spinner': 'Yuzendra Chahal'}\n",
      "dict_keys(['Captain', 'Opener1', 'Opener2', 'Keeper', 'Fastbowler', 'Spinner'])\n",
      "dict_values(['Virat Kohli', 'Rohith Sharma', 'Kl Rahul', 'Rishabh Panth', 'Bumrah', 'Yuzendra Chahal'])\n",
      "Virat Kohli\n",
      "Yuzendra Chahal\n",
      "dict_items([('Captain', 'Virat Kohli'), ('Opener1', 'Rohith Sharma'), ('Opener2', 'Kl Rahul'), ('Keeper', 'Rishabh Panth'), ('Fastbowler', 'Bumrah'), ('Spinner', 'Yuzendra Chahal')])\n"
     ]
    }
   ],
   "source": [
    "#dictionary\n",
    "Cricket={\n",
    "    \"Captain\":\"Virat Kohli\",\n",
    "    \"Opener1\":\"Rohith Sharma\",\n",
    "    \"Opener2\":\"Kl Rahul\",\n",
    "    \"Keeper\":\"Rishabh Panth\",\n",
    "    \"Fastbowler\":\"Bumrah\",\n",
    "    \"Spinner\":\"Yuzendra Chahal\"\n",
    "}\n",
    "print(Cricket)\n",
    "print(Cricket.keys())\n",
    "print(Cricket.values())\n",
    "print(Cricket.get(\"Captain\"))\n",
    "print(Cricket.get(\"Spinner\"))\n",
    "print(Cricket.items())"
   ]
  },
  {
   "cell_type": "code",
   "execution_count": null,
   "id": "93d8a10f",
   "metadata": {},
   "outputs": [],
   "source": []
  }
 ],
 "metadata": {
  "kernelspec": {
   "display_name": "Python 3 (ipykernel)",
   "language": "python",
   "name": "python3"
  },
  "language_info": {
   "codemirror_mode": {
    "name": "ipython",
    "version": 3
   },
   "file_extension": ".py",
   "mimetype": "text/x-python",
   "name": "python",
   "nbconvert_exporter": "python",
   "pygments_lexer": "ipython3",
   "version": "3.9.7"
  }
 },
 "nbformat": 4,
 "nbformat_minor": 5
}
